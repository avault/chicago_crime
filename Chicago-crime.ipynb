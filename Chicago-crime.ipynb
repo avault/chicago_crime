{
 "cells": [
  {
   "cell_type": "code",
   "execution_count": 1,
   "metadata": {
    "collapsed": true
   },
   "outputs": [],
   "source": [
    "import numpy as np\n",
    "import pandas as pd\n",
    "import matplotlib.pyplot as plt\n",
    "\n",
    "%matplotlib inline"
   ]
  },
  {
   "cell_type": "code",
   "execution_count": 2,
   "metadata": {
    "collapsed": true
   },
   "outputs": [],
   "source": [
    "def read_data(filename, usecols=[2, 5, 8, 19, 20], dtype={'Primary Type': str, 'Arrest': bool, 'Latitude' : float, 'Longitude' : float}, **kwargs):\n",
    "\n",
    "    data = pd.read_csv(filename, usecols=usecols, dtype=dtype, quotechar='\"', parse_dates=['Date'], infer_datetime_format=True, index_col='Date', **kwargs)\n",
    "    return data"
   ]
  },
  {
   "cell_type": "code",
   "execution_count": null,
   "metadata": {},
   "outputs": [],
   "source": [
    "nrows = 100000\n",
    "filename = '/Users/Elaad/Documents/Fun/DatAnalysis/datasets/Crimes_-_2001_to_present.csv'\n",
    "crimedata = read_data(filename)"
   ]
  },
  {
   "cell_type": "markdown",
   "metadata": {},
   "source": [
    "# Crimes as a function of time and date"
   ]
  },
  {
   "cell_type": "code",
   "execution_count": 59,
   "metadata": {},
   "outputs": [],
   "source": [
    "allcrime_hourcounts = crimedata.index.hour.value_counts()\n",
    "homicide_hourcounts = crimedata[crimedata['Primary Type']=='HOMICIDE'].index.hour.value_counts()\n",
    "\n",
    "allcrime_daycounts = crimedata.index.day.value_counts()\n",
    "homicide_daycounts = crimedata[crimedata['Primary Type']=='HOMICIDE'].index.day.value_counts()\n",
    "\n",
    "allcrime_monthcounts = crimedata.index.month.value_counts()\n",
    "homicide_monthcounts = crimedata[crimedata['Primary Type']=='HOMICIDE'].index.month.value_counts()\n",
    "\n",
    "allcrime_yearcounts = crimedata.index.year.value_counts()\n",
    "homicide_yearcounts = crimedata[crimedata['Primary Type']=='HOMICIDE'].index.year.value_counts()"
   ]
  },
  {
   "cell_type": "code",
   "execution_count": null,
   "metadata": {},
   "outputs": [],
   "source": [
    "fig, ax = plt.subplots(1, 1)\n",
    "ax.bar(allcrime_hourcounts.index, allcrime_hourcounts.values, label='All Crimes')\n",
    "ax.bar(homicide_hourcounts.index, homicide_hourcounts.values*1000, label='Homicide')\n",
    "ax.set_xlabel('Hour of Day', fontsize=18)\n",
    "ax.set_ylabel('Number of Crimes', fontsize=18)\n",
    "plt.legend(loc='best')\n",
    "\n",
    "fig, ax = plt.subplots(1, 1)\n",
    "ax.bar(allcrime_daycounts.index, allcrime_daycounts.values, label='All Crimes')\n",
    "ax.bar(homicide_daycounts.index, homicide_daycounts.values*1000, label='Homicide')\n",
    "ax.set_xlabel('Day of Month', fontsize=18)\n",
    "ax.set_ylabel('Number of Crimes', fontsize=18)\n",
    "plt.legend(loc='best')\n",
    "\n",
    "fig, ax = plt.subplots(1, 1)\n",
    "ax.bar(allcrime_monthcounts.index, allcrime_monthcounts.values, label='All Crimes')\n",
    "ax.bar(homicide_monthcounts.index, homicide_monthcounts.values*1000, label='Homicide')\n",
    "ax.set_xlabel('Month of Year', fontsize=18)\n",
    "ax.set_ylabel('Number of Crimes', fontsize=18)\n",
    "plt.legend(loc='best')\n",
    "\n",
    "fig, ax = plt.subplots(1, 1)\n",
    "ax.bar(allcrime_yearcounts.index, allcrime_yearcounts.values, label='All Crimes')\n",
    "ax.bar(homicide_yearcounts.index, homicide_yearcounts.values*1000, label='Homicide')\n",
    "ax.set_xlabel('Year', fontsize=18)\n",
    "ax.set_ylabel('Number of Crimes', fontsize=18)\n",
    "plt.legend(loc='best')"
   ]
  },
  {
   "cell_type": "code",
   "execution_count": 84,
   "metadata": {},
   "outputs": [
    {
     "data": {
      "text/plain": [
       "30"
      ]
     },
     "execution_count": 84,
     "metadata": {},
     "output_type": "execute_result"
    }
   ],
   "source": []
  },
  {
   "cell_type": "code",
   "execution_count": null,
   "metadata": {
    "collapsed": true
   },
   "outputs": [],
   "source": []
  }
 ],
 "metadata": {
  "kernelspec": {
   "display_name": "Python 2",
   "language": "python",
   "name": "python2"
  },
  "language_info": {
   "codemirror_mode": {
    "name": "ipython",
    "version": 2
   },
   "file_extension": ".py",
   "mimetype": "text/x-python",
   "name": "python",
   "nbconvert_exporter": "python",
   "pygments_lexer": "ipython2",
   "version": "2.7.13"
  }
 },
 "nbformat": 4,
 "nbformat_minor": 2
}
